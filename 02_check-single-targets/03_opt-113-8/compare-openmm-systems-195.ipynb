{
 "cells": [
  {
   "cell_type": "code",
   "execution_count": 9,
   "id": "2c1b1e30",
   "metadata": {},
   "outputs": [],
   "source": [
    "import copy\n",
    "\n",
    "import openmm\n",
    "from openff.toolkit.topology.molecule import Molecule, unit\n",
    "import numpy as np\n",
    "\n",
    "from rdkit import Chem\n",
    "from rdkit.Chem import AllChem\n",
    "import MDAnalysis as mda\n",
    "\n",
    "from openff.units.openmm import to_openmm"
   ]
  },
  {
   "cell_type": "code",
   "execution_count": 2,
   "id": "7105e886",
   "metadata": {},
   "outputs": [],
   "source": [
    "dir1 = \"fb-193-tk-010-oe-2022/rep4\"\n",
    "dir2 = \"fb-195-tk-013-oe-2022-interchange-replace-cache-switching/rep1\""
   ]
  },
  {
   "cell_type": "code",
   "execution_count": 3,
   "id": "04e9c812",
   "metadata": {},
   "outputs": [],
   "source": [
    "batch = \"opt-geo-batch-113\"\n",
    "system = \"19095588-8\""
   ]
  },
  {
   "cell_type": "code",
   "execution_count": 4,
   "id": "b5e80479",
   "metadata": {},
   "outputs": [],
   "source": [
    "qm_sdf = f\"{dir1}/targets/{batch}/{system}.sdf\"\n",
    "mol = Molecule.from_file(qm_sdf, \"SDF\", allow_undefined_stereo=True)\n",
    "openmm_topology = mol.to_topology().to_openmm()"
   ]
  },
  {
   "cell_type": "code",
   "execution_count": 5,
   "id": "2d3b3dca",
   "metadata": {},
   "outputs": [],
   "source": [
    "xml1 = f\"{dir1}/optimize.tmp/{batch}/iter_0000/{system}_mminit.xml\"\n",
    "xml2 = f\"{dir2}/optimize.tmp/{batch}/iter_0000/{system}_mminit.xml\"\n",
    "\n",
    "u1 = mda.Universe(f\"{dir1}/optimize.tmp/{batch}/iter_0000/{system}_mmopt.xyz\")\n",
    "xyz1 = u1.atoms.positions\n",
    "u2 = mda.Universe(f\"{dir2}/optimize.tmp/{batch}/iter_0000/{system}_mmopt.xyz\")\n",
    "xyz2 = u2.atoms.positions"
   ]
  },
  {
   "cell_type": "code",
   "execution_count": 6,
   "id": "f8ee11d7",
   "metadata": {},
   "outputs": [],
   "source": [
    "with open(xml1) as f:\n",
    "     sys1 = openmm.XmlSerializer.deserialize(f.read())\n",
    "\n",
    "with open(xml2) as f:\n",
    "     sys2 = openmm.XmlSerializer.deserialize(f.read())"
   ]
  },
  {
   "cell_type": "code",
   "execution_count": 10,
   "id": "01893987",
   "metadata": {},
   "outputs": [],
   "source": [
    "def get_energy(system, minimize: bool = True):\n",
    "    integrator = openmm.LangevinIntegrator(\n",
    "        300 * openmm.unit.kelvin,\n",
    "        1 / openmm.unit.picosecond,\n",
    "        1 * openmm.unit.femtosecond\n",
    "    )\n",
    "    \n",
    "    force_group_order = {\n",
    "        0: \"NonbondedForce\",\n",
    "        1: \"PeriodicTorsionForce\",\n",
    "        2: \"HarmonicBondForce\",\n",
    "        3: \"HarmonicAngleForce\",\n",
    "    }\n",
    "    inverse = {v: k for k, v in force_group_order.items()}\n",
    "    for force in system.getForces():\n",
    "        group = inverse[force.__class__.__name__]\n",
    "        force.setForceGroup(group)\n",
    "\n",
    "    platform = openmm.Platform.getPlatformByName(\"Reference\")\n",
    "\n",
    "    sim1 = openmm.app.Simulation(openmm_topology, system, integrator, platform)\n",
    "    sim1.context.setPositions(to_openmm(mol.conformers[0]))\n",
    "    if minimize:\n",
    "        crit = 1e-4\n",
    "        steps = int(max(1, -1*np.log10(crit)))\n",
    "        kj_per_mol = openmm.unit.kilojoule / openmm.unit.mole\n",
    "        \n",
    "        for logc in np.linspace(0, np.log10(crit), steps):\n",
    "            sim1.minimizeEnergy(tolerance=10**logc*kj_per_mol, maxIterations=100000)\n",
    "        \n",
    "        for _ in range(1000):\n",
    "            e_minimized = sim1.context.getState(getEnergy=True).getPotentialEnergy().value_in_unit(kj_per_mol)\n",
    "            sim1.minimizeEnergy(tolerance=crit*kj_per_mol, maxIterations=10)\n",
    "            e_new = sim1.context.getState(getEnergy=True).getPotentialEnergy().value_in_unit(kj_per_mol)\n",
    "            if abs(e_new - e_minimized) < crit * 10:\n",
    "                break\n",
    "            \n",
    "    e1 = sim1.context.getState(getEnergy=True).getPotentialEnergy()\n",
    "    pos = sim1.context.getState(getPositions=True)\n",
    "    angstrom = pos.getPositions(asNumpy=True).value_in_unit(openmm.unit.angstrom)\n",
    "    \n",
    "    data = {\"total_energy\": e1._value}\n",
    "    for group, force_name in force_group_order.items():\n",
    "        state = sim1.context.getState(getEnergy=True, groups={group})\n",
    "        data[force_name] = state.getPotentialEnergy()._value\n",
    "    return data, angstrom"
   ]
  },
  {
   "cell_type": "code",
   "execution_count": 11,
   "id": "6c10a9b2",
   "metadata": {},
   "outputs": [],
   "source": [
    "data1, min1 = get_energy(sys1)"
   ]
  },
  {
   "cell_type": "code",
   "execution_count": 12,
   "id": "2776a63d",
   "metadata": {},
   "outputs": [],
   "source": [
    "data2, min2 = get_energy(sys2)"
   ]
  },
  {
   "cell_type": "code",
   "execution_count": 13,
   "id": "25fcdafc",
   "metadata": {},
   "outputs": [
    {
     "data": {
      "text/plain": [
       "{'total_energy': -91.20441098709435,\n",
       " 'NonbondedForce': -282.3557755879145,\n",
       " 'PeriodicTorsionForce': 109.541982014749,\n",
       " 'HarmonicBondForce': 9.166777114581903,\n",
       " 'HarmonicAngleForce': 72.44260547148923}"
      ]
     },
     "execution_count": 13,
     "metadata": {},
     "output_type": "execute_result"
    }
   ],
   "source": [
    "data1"
   ]
  },
  {
   "cell_type": "code",
   "execution_count": 14,
   "id": "6c807243",
   "metadata": {},
   "outputs": [
    {
     "data": {
      "text/plain": [
       "{'total_energy': -91.20441098707292,\n",
       " 'NonbondedForce': -282.35578699014656,\n",
       " 'PeriodicTorsionForce': 109.54199941713894,\n",
       " 'HarmonicBondForce': 9.166776931376813,\n",
       " 'HarmonicAngleForce': 72.4425996545579}"
      ]
     },
     "execution_count": 14,
     "metadata": {},
     "output_type": "execute_result"
    }
   ],
   "source": [
    "data2"
   ]
  },
  {
   "cell_type": "code",
   "execution_count": 15,
   "id": "8aa9a499",
   "metadata": {},
   "outputs": [],
   "source": [
    "def print_rmsd(qm_mol, coords1, coords2):\n",
    "    qm_mol = copy.deepcopy(qm_mol)\n",
    "    rdmol = qm_mol.to_rdkit()\n",
    "    \n",
    "    coords1 = np.array(coords1).astype(float)\n",
    "    qm_mol._conformers = [coords1 * unit.angstrom]\n",
    "    rdmol1 = qm_mol.to_rdkit()\n",
    "    a_to_qm = AllChem.GetBestRMS(rdmol, rdmol1)\n",
    "    print(f\"Mol 1 to QM: {a_to_qm}\")\n",
    "    \n",
    "    coords2 = np.array(coords2).astype(float)\n",
    "    qm_mol._conformers = [coords2 * unit.angstrom]\n",
    "    rdmol2 = qm_mol.to_rdkit()\n",
    "    b_to_qm = AllChem.GetBestRMS(rdmol, rdmol2)\n",
    "    print(f\"Mol 2 to QM: {b_to_qm}\")\n",
    "    \n",
    "    a_to_b = AllChem.GetBestRMS(rdmol1, rdmol2)\n",
    "    print(f\"Mol 1 to Mol 2: {a_to_b}\")"
   ]
  },
  {
   "cell_type": "code",
   "execution_count": 16,
   "id": "17779c02",
   "metadata": {},
   "outputs": [
    {
     "name": "stdout",
     "output_type": "stream",
     "text": [
      "Mol 1 to QM: 2.97829864887902\n",
      "Mol 2 to QM: 1.8349996744698331\n",
      "Mol 1 to Mol 2: 2.18062317618241\n"
     ]
    }
   ],
   "source": [
    "print_rmsd(mol, xyz1, xyz2)"
   ]
  },
  {
   "cell_type": "code",
   "execution_count": 17,
   "id": "78263e16",
   "metadata": {},
   "outputs": [
    {
     "name": "stdout",
     "output_type": "stream",
     "text": [
      "Mol 1 to QM: 2.97829864887902\n",
      "Mol 2 to QM: 1.8349994219228138\n",
      "Mol 1 to Mol 2: 2.18062312190854\n"
     ]
    }
   ],
   "source": [
    "print_rmsd(mol, xyz1, min1)"
   ]
  },
  {
   "cell_type": "code",
   "execution_count": 19,
   "id": "0a1158f9",
   "metadata": {},
   "outputs": [
    {
     "name": "stdout",
     "output_type": "stream",
     "text": [
      "Mol 1 to QM: 1.8349996744698271\n",
      "Mol 2 to QM: 1.8349994219228138\n",
      "Mol 1 to Mol 2: 2.4040990281336426e-06\n"
     ]
    }
   ],
   "source": [
    "print_rmsd(mol, xyz2, min1)"
   ]
  },
  {
   "cell_type": "code",
   "execution_count": 18,
   "id": "ef7d374b",
   "metadata": {},
   "outputs": [
    {
     "name": "stdout",
     "output_type": "stream",
     "text": [
      "Mol 1 to QM: 1.8349994219228318\n",
      "Mol 2 to QM: 1.8349992167261757\n",
      "Mol 1 to Mol 2: 1.270283288159683e-06\n"
     ]
    }
   ],
   "source": [
    "print_rmsd(mol, min1, min2)"
   ]
  },
  {
   "cell_type": "code",
   "execution_count": 64,
   "id": "7e9f21b3",
   "metadata": {},
   "outputs": [],
   "source": [
    "fcs1 = {\n",
    "    x.__class__.__name__: x\n",
    "    for x in sys1.getForces()\n",
    "}\n",
    "fcs2 = {\n",
    "    x.__class__.__name__: x\n",
    "    for x in sys2.getForces()\n",
    "}"
   ]
  },
  {
   "cell_type": "code",
   "execution_count": 65,
   "id": "e8a41086",
   "metadata": {},
   "outputs": [
    {
     "data": {
      "text/plain": [
       "{'PeriodicTorsionForce': <openmm.openmm.PeriodicTorsionForce; proxy of <Swig Object of type 'OpenMM::PeriodicTorsionForce *' at 0x2af2e31b5050> >,\n",
       " 'NonbondedForce': <openmm.openmm.NonbondedForce; proxy of <Swig Object of type 'OpenMM::NonbondedForce *' at 0x2af2e31b4b40> >,\n",
       " 'HarmonicBondForce': <openmm.openmm.HarmonicBondForce; proxy of <Swig Object of type 'OpenMM::HarmonicBondForce *' at 0x2af2e31b4570> >,\n",
       " 'HarmonicAngleForce': <openmm.openmm.HarmonicAngleForce; proxy of <Swig Object of type 'OpenMM::HarmonicAngleForce *' at 0x2af2e31b43c0> >}"
      ]
     },
     "execution_count": 65,
     "metadata": {},
     "output_type": "execute_result"
    }
   ],
   "source": [
    "fcs1"
   ]
  },
  {
   "cell_type": "code",
   "execution_count": 66,
   "id": "1b08f723",
   "metadata": {},
   "outputs": [],
   "source": [
    "tors1 = fcs1[\"PeriodicTorsionForce\"]\n",
    "tors2 = fcs2[\"PeriodicTorsionForce\"]\n",
    "\n",
    "for i in range(tors1.getNumTorsions()):\n",
    "    p1_ = tors1.getTorsionParameters(i)\n",
    "    p1 = np.array(p1_[:5] + [x._value for x in p1_[5:]])\n",
    "    p2_ = tors2.getTorsionParameters(i)\n",
    "    p2 = np.array(p2_[:5] + [x._value for x in p2_[5:]])\n",
    "    \n",
    "    assert np.allclose(p1, p2)"
   ]
  },
  {
   "cell_type": "code",
   "execution_count": 68,
   "id": "efe04bc4",
   "metadata": {},
   "outputs": [],
   "source": [
    "nb1 = fcs1[\"NonbondedForce\"]\n",
    "nb2 = fcs2[\"NonbondedForce\"]\n",
    "for i in range(nb1.getNumParticles()):\n",
    "    p1 = np.array([\n",
    "        x._value for x in nb1.getParticleParameters(i)\n",
    "    ])\n",
    "    p2 = np.array([\n",
    "        x._value for x in nb2.getParticleParameters(i)\n",
    "    ])\n",
    "    assert np.allclose(p1, p2)"
   ]
  },
  {
   "cell_type": "code",
   "execution_count": 69,
   "id": "bef7b60c",
   "metadata": {},
   "outputs": [
    {
     "data": {
      "text/plain": [
       "Quantity(value=-1.0, unit=nanometer)"
      ]
     },
     "execution_count": 69,
     "metadata": {},
     "output_type": "execute_result"
    }
   ],
   "source": [
    "nb1.getSwitchingDistance()"
   ]
  },
  {
   "cell_type": "code",
   "execution_count": 70,
   "id": "385b73c3",
   "metadata": {},
   "outputs": [
    {
     "data": {
      "text/plain": [
       "Quantity(value=-1.0, unit=nanometer)"
      ]
     },
     "execution_count": 70,
     "metadata": {},
     "output_type": "execute_result"
    }
   ],
   "source": [
    "nb2.getSwitchingDistance()"
   ]
  },
  {
   "cell_type": "code",
   "execution_count": null,
   "id": "e2790094",
   "metadata": {},
   "outputs": [],
   "source": []
  }
 ],
 "metadata": {
  "kernelspec": {
   "display_name": "Python (fb-195-tk-013-oe-2022-interchange-replace-cache)",
   "language": "python",
   "name": "fb-195-tk-013-oe-2022-interchange-replace-cache"
  },
  "language_info": {
   "codemirror_mode": {
    "name": "ipython",
    "version": 3
   },
   "file_extension": ".py",
   "mimetype": "text/x-python",
   "name": "python",
   "nbconvert_exporter": "python",
   "pygments_lexer": "ipython3",
   "version": "3.10.13"
  }
 },
 "nbformat": 4,
 "nbformat_minor": 5
}
