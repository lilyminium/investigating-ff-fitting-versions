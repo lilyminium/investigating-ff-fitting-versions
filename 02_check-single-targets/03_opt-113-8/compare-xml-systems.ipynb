{
 "cells": [
  {
   "cell_type": "code",
   "execution_count": 6,
   "id": "72ef4134",
   "metadata": {},
   "outputs": [],
   "source": [
    "import openmm\n",
    "import numpy as np"
   ]
  },
  {
   "cell_type": "code",
   "execution_count": 2,
   "id": "09ab7138",
   "metadata": {},
   "outputs": [],
   "source": [
    "xml1 = \"fb-193_system.xml\"\n",
    "xml2 = \"fb-195_system.xml\""
   ]
  },
  {
   "cell_type": "code",
   "execution_count": 3,
   "id": "71d608f7",
   "metadata": {},
   "outputs": [],
   "source": [
    "with open(xml1) as f:\n",
    "     sys1 = openmm.XmlSerializer.deserialize(f.read())\n",
    "\n",
    "with open(xml2) as f:\n",
    "     sys2 = openmm.XmlSerializer.deserialize(f.read())"
   ]
  },
  {
   "cell_type": "code",
   "execution_count": 4,
   "id": "6ed1f0ec",
   "metadata": {},
   "outputs": [],
   "source": [
    "fcs1 = {\n",
    "    fc.__class__.__name__: fc\n",
    "    for fc in sys1.getForces()\n",
    "}\n",
    "fcs2 = {\n",
    "    fc.__class__.__name__: fc\n",
    "    for fc in sys2.getForces()\n",
    "}"
   ]
  },
  {
   "cell_type": "code",
   "execution_count": 5,
   "id": "fa6fd738",
   "metadata": {},
   "outputs": [
    {
     "data": {
      "text/plain": [
       "{'PeriodicTorsionForce': <openmm.openmm.PeriodicTorsionForce; proxy of <Swig Object of type 'OpenMM::PeriodicTorsionForce *' at 0x2ac2c6ef0c00> >,\n",
       " 'NonbondedForce': <openmm.openmm.NonbondedForce; proxy of <Swig Object of type 'OpenMM::NonbondedForce *' at 0x2ac2c6ef0870> >,\n",
       " 'HarmonicBondForce': <openmm.openmm.HarmonicBondForce; proxy of <Swig Object of type 'OpenMM::HarmonicBondForce *' at 0x2ac2c6ef0510> >,\n",
       " 'HarmonicAngleForce': <openmm.openmm.HarmonicAngleForce; proxy of <Swig Object of type 'OpenMM::HarmonicAngleForce *' at 0x2ac2c6ef0330> >}"
      ]
     },
     "execution_count": 5,
     "metadata": {},
     "output_type": "execute_result"
    }
   ],
   "source": [
    "fcs1"
   ]
  },
  {
   "cell_type": "code",
   "execution_count": 10,
   "id": "31fad002",
   "metadata": {},
   "outputs": [],
   "source": [
    "fc1 = fcs1[\"HarmonicBondForce\"]\n",
    "fc2 = fcs2[\"HarmonicBondForce\"]\n",
    "for i in range(fc1.getNumBonds()):\n",
    "    param1 = [x._value for x in fc1.getBondParameters(i)[2:]]\n",
    "    param2 = [x._value for x in fc2.getBondParameters(i)[2:]]\n",
    "    assert np.allclose(param1, param2)"
   ]
  },
  {
   "cell_type": "code",
   "execution_count": 11,
   "id": "6d12ae2b",
   "metadata": {},
   "outputs": [],
   "source": [
    "fc1 = fcs1[\"HarmonicAngleForce\"]\n",
    "fc2 = fcs2[\"HarmonicAngleForce\"]\n",
    "for i in range(fc1.getNumAngles()):\n",
    "    param1 = [x._value for x in fc1.getAngleParameters(i)[3:]]\n",
    "    param2 = [x._value for x in fc2.getAngleParameters(i)[3:]]\n",
    "    assert np.allclose(param1, param2)"
   ]
  },
  {
   "cell_type": "code",
   "execution_count": 16,
   "id": "bb670d61",
   "metadata": {},
   "outputs": [],
   "source": [
    "fc1 = fcs1[\"PeriodicTorsionForce\"]\n",
    "fc2 = fcs2[\"PeriodicTorsionForce\"]\n",
    "for i in range(fc1.getNumTorsions()):\n",
    "    p1 = fc1.getTorsionParameters(i)\n",
    "    p2 = fc2.getTorsionParameters(i)\n",
    "    param1 = p1[:5] + [x._value for x in p1[5:]]\n",
    "    param2 = p2[:5] + [x._value for x in p2[5:]]\n",
    "    assert np.allclose(param1, param2)"
   ]
  },
  {
   "cell_type": "code",
   "execution_count": 25,
   "id": "44cdc495",
   "metadata": {},
   "outputs": [],
   "source": [
    "fc1 = fcs1[\"NonbondedForce\"]\n",
    "fc2 = fcs2[\"NonbondedForce\"]\n",
    "for i in range(fc1.getNumExceptions()):\n",
    "    p1 = fc1.getExceptionParameters(i)\n",
    "    p2 = fc2.getExceptionParameters(i)\n",
    "    param1 = p1[:2] + [x._value for x in p1[2:]]\n",
    "    param2 = p2[:2] + [x._value for x in p2[2:]]\n",
    "    assert np.allclose(param1, param2)\n",
    "for i in range(fc1.getNumParticles()):\n",
    "    param1 = [x._value for x in fc1.getParticleParameters(i)]\n",
    "    param2 = [x._value for x in fc2.getParticleParameters(i)]\n",
    "    assert np.allclose(param1, param2)"
   ]
  },
  {
   "cell_type": "code",
   "execution_count": 26,
   "id": "700ec3f9",
   "metadata": {},
   "outputs": [
    {
     "data": {
      "text/plain": [
       "[0.4442099936216349, 0.05345392308836691, 5.157198260534728e-05]"
      ]
     },
     "execution_count": 26,
     "metadata": {},
     "output_type": "execute_result"
    }
   ],
   "source": [
    "param1"
   ]
  },
  {
   "cell_type": "code",
   "execution_count": 27,
   "id": "74726034",
   "metadata": {},
   "outputs": [
    {
     "data": {
      "text/plain": [
       "[0.4442099936216349, 0.053453923088366904, 5.157198260534728e-05]"
      ]
     },
     "execution_count": 27,
     "metadata": {},
     "output_type": "execute_result"
    }
   ],
   "source": [
    "param2"
   ]
  },
  {
   "cell_type": "code",
   "execution_count": null,
   "id": "015326be",
   "metadata": {},
   "outputs": [],
   "source": []
  }
 ],
 "metadata": {
  "kernelspec": {
   "display_name": "Python (fb-193-tk-010-oe-2022)",
   "language": "python",
   "name": "fb-193-tk-010-oe-2022"
  },
  "language_info": {
   "codemirror_mode": {
    "name": "ipython",
    "version": 3
   },
   "file_extension": ".py",
   "mimetype": "text/x-python",
   "name": "python",
   "nbconvert_exporter": "python",
   "pygments_lexer": "ipython3",
   "version": "3.10.13"
  }
 },
 "nbformat": 4,
 "nbformat_minor": 5
}
