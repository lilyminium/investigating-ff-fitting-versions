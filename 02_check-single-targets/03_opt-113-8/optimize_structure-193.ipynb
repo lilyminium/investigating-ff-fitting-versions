{
 "cells": [
  {
   "cell_type": "code",
   "execution_count": 1,
   "id": "5eee730d",
   "metadata": {},
   "outputs": [
    {
     "name": "stderr",
     "output_type": "stream",
     "text": [
      "/lila/data/chodera/lilywang/micromamba/envs/fb-193-tk-010-oe-2022/lib/python3.10/site-packages/tqdm/auto.py:21: TqdmWarning: IProgress not found. Please update jupyter and ipywidgets. See https://ipywidgets.readthedocs.io/en/stable/user_install.html\n",
      "  from .autonotebook import tqdm as notebook_tqdm\n"
     ]
    }
   ],
   "source": [
    "import openmm\n",
    "import MDAnalysis as mda\n",
    "import numpy as np\n",
    "from openff.toolkit.topology.molecule import Molecule"
   ]
  },
  {
   "cell_type": "code",
   "execution_count": 2,
   "id": "a89e2f1f",
   "metadata": {},
   "outputs": [],
   "source": [
    "batch = \"opt-geo-batch-113\"\n",
    "system = \"19095588-8\""
   ]
  },
  {
   "cell_type": "code",
   "execution_count": 3,
   "id": "3117a418",
   "metadata": {},
   "outputs": [],
   "source": [
    "TARGET_DIRECTORY = f\"../../targets/{batch}\"\n",
    "\n",
    "target_xyz = f\"{TARGET_DIRECTORY}/{system}.xyz\"\n",
    "coordinates = mda.Universe(target_xyz).atoms.positions\n",
    "\n",
    "target_sdf = f\"{TARGET_DIRECTORY}/{system}.sdf\"\n",
    "mol = Molecule.from_file(target_sdf, \"SDF\", allow_undefined_stereo=True)\n",
    "top = mol.to_topology()"
   ]
  },
  {
   "cell_type": "code",
   "execution_count": 4,
   "id": "8c4418e1",
   "metadata": {},
   "outputs": [],
   "source": [
    "# with open('fb-193_system.xml') as input:\n",
    "#     system = openmm.XmlSerializer.deserialize(input.read())"
   ]
  },
  {
   "cell_type": "code",
   "execution_count": 5,
   "id": "128902c6",
   "metadata": {},
   "outputs": [],
   "source": [
    "integrator = openmm.LangevinIntegrator(\n",
    "    300 * openmm.unit.kelvin,\n",
    "    1 / openmm.unit.picosecond,\n",
    "    1 * openmm.unit.femtosecond\n",
    ")\n",
    "platform = openmm.Platform.getPlatformByName(\"Reference\")\n",
    "\n",
    "simulation = openmm.app.Simulation(\n",
    "    top.to_openmm(),\n",
    "    \"fb-193_system.xml\",\n",
    "    integrator,\n",
    "    platform\n",
    ")\n",
    "simulation.context.setPositions(coordinates * openmm.unit.angstrom)"
   ]
  },
  {
   "cell_type": "code",
   "execution_count": 6,
   "id": "9b1332c5",
   "metadata": {},
   "outputs": [],
   "source": [
    "simulation.minimizeEnergy(tolerance=1e-4 * openmm.unit.kilojoule_per_mole, maxIterations=10000)\n",
    "for _ in range(1000):\n",
    "    simulation.minimizeEnergy(tolerance=1e-4 * openmm.unit.kilojoule_per_mole, maxIterations=10)"
   ]
  },
  {
   "cell_type": "code",
   "execution_count": 7,
   "id": "f4531527",
   "metadata": {},
   "outputs": [],
   "source": [
    "state = simulation.context.getState(getPositions=True, getEnergy=True)\n",
    "energy = state.getPotentialEnergy().value_in_unit(openmm.unit.kilojoule_per_mole)\n",
    "opt = state.getPositions(asNumpy=True).value_in_unit(openmm.unit.angstrom)"
   ]
  },
  {
   "cell_type": "code",
   "execution_count": 8,
   "id": "2622c75a",
   "metadata": {},
   "outputs": [
    {
     "data": {
      "text/plain": [
       "array([[ 2.16785134,  4.46642762,  4.35963879],\n",
       "       [ 0.83968112, -1.46749801,  4.51180342],\n",
       "       [ 3.52032069,  4.7170952 ,  4.65809109],\n",
       "       [-0.38889787, -1.37726505,  3.82236919],\n",
       "       [ 2.8407291 ,  2.67502189,  2.84000343],\n",
       "       [-0.94122793,  0.65601769,  5.06150395],\n",
       "       [ 1.82209311,  3.4577627 ,  3.43402202],\n",
       "       [ 1.19806004, -0.45290451,  5.42747414],\n",
       "       [ 0.3045394 ,  0.58324788,  5.71444389],\n",
       "       [ 4.54526731,  3.96486458,  4.03918329],\n",
       "       [ 4.20637472,  2.90568167,  3.14001161],\n",
       "       [-1.25967571, -0.28949264,  4.06594419],\n",
       "       [-1.41373635,  2.44388243,  2.2812153 ],\n",
       "       [-1.75760582,  3.40487757,  3.19787358],\n",
       "       [ 0.39544363,  3.22115123,  3.10311063],\n",
       "       [ 5.06440332, -0.5252749 ,  6.07562458],\n",
       "       [ 0.87324421,  1.52796   ,  6.73338292],\n",
       "       [ 2.37926251,  1.16822147,  6.73699017],\n",
       "       [ 2.47990221, -0.29921446,  6.21424193],\n",
       "       [ 5.98673736,  4.37332171,  4.31888934],\n",
       "       [-3.1326687 ,  3.85112088,  3.65311745],\n",
       "       [ 5.00022861,  1.67540493,  1.08810108],\n",
       "       [ 6.34558691,  1.5395233 ,  3.25976831],\n",
       "       [-2.34501633,  1.54807585,  1.4843289 ],\n",
       "       [ 3.72960432, -0.52865981,  5.31327114],\n",
       "       [-2.16514309,  0.06825975,  1.88700362],\n",
       "       [-0.02965444,  2.34955604,  2.20648492],\n",
       "       [ 5.1824515 ,  2.09596575,  2.50843282],\n",
       "       [ 5.12322813, -0.15197736,  7.23619736],\n",
       "       [-0.62123151,  3.90759778,  3.71746001],\n",
       "       [ 6.16401189, -0.96261513,  5.425215  ],\n",
       "       [-2.41078458, -0.12126908,  3.31653074],\n",
       "       [ 1.3944282 ,  5.06659915,  4.83316729],\n",
       "       [ 1.50900163, -2.29837518,  4.31279857],\n",
       "       [ 3.77113769,  5.51504847,  5.35135373],\n",
       "       [-0.65955172, -2.12902017,  3.08847177],\n",
       "       [ 2.5600726 ,  1.88086773,  2.15623532],\n",
       "       [-1.62410878,  1.47041006,  5.27418826],\n",
       "       [ 0.71543196,  2.57236061,  6.4462406 ],\n",
       "       [ 0.42713689,  1.33138611,  7.71342655],\n",
       "       [ 2.9100382 ,  1.84350641,  6.05724323],\n",
       "       [ 2.80971859,  1.26889222,  7.73869614],\n",
       "       [ 2.47304519, -1.00219603,  7.05523672],\n",
       "       [ 6.42846012,  3.72280835,  5.07909214],\n",
       "       [ 6.5823248 ,  4.32988946,  3.40224137],\n",
       "       [ 6.02999792,  5.40273876,  4.68766026],\n",
       "       [-3.22297956,  3.71804655,  4.73520309],\n",
       "       [-3.27222215,  4.91152547,  3.42370095],\n",
       "       [-3.92467217,  3.27788818,  3.1673718 ],\n",
       "       [ 5.9723199 ,  1.49303323,  0.61865768],\n",
       "       [ 4.49933256,  2.46288726,  0.51492333],\n",
       "       [ 4.40586001,  0.7576795 ,  1.03412126],\n",
       "       [ 7.25508063,  2.1052486 ,  3.03531386],\n",
       "       [ 6.50936844,  0.49460698,  2.97871011],\n",
       "       [ 6.16107037,  1.56468336,  4.33767264],\n",
       "       [-3.38643719,  1.83732002,  1.63400373],\n",
       "       [-2.12387536,  1.66220428,  0.41944761],\n",
       "       [ 3.6344319 , -1.49522798,  4.81517686],\n",
       "       [ 3.76251742,  0.2351128 ,  4.53101543],\n",
       "       [-2.87211982, -0.54510167,  1.3196795 ],\n",
       "       [-1.16023228, -0.26063639,  1.59937932],\n",
       "       [ 5.94720517, -1.24148706,  4.52294538]])"
      ]
     },
     "execution_count": 8,
     "metadata": {},
     "output_type": "execute_result"
    }
   ],
   "source": [
    "opt"
   ]
  },
  {
   "cell_type": "code",
   "execution_count": null,
   "id": "351b005e",
   "metadata": {},
   "outputs": [],
   "source": []
  }
 ],
 "metadata": {
  "kernelspec": {
   "display_name": "Python (fb-193-tk-010-oe-2022)",
   "language": "python",
   "name": "fb-193-tk-010-oe-2022"
  },
  "language_info": {
   "codemirror_mode": {
    "name": "ipython",
    "version": 3
   },
   "file_extension": ".py",
   "mimetype": "text/x-python",
   "name": "python",
   "nbconvert_exporter": "python",
   "pygments_lexer": "ipython3",
   "version": "3.10.13"
  }
 },
 "nbformat": 4,
 "nbformat_minor": 5
}
