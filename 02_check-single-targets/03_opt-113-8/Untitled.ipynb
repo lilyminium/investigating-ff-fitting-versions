{
 "cells": [
  {
   "cell_type": "code",
   "execution_count": 1,
   "id": "ad5b6fef",
   "metadata": {},
   "outputs": [],
   "source": [
    "from openff.toolkit.typing.engines.smirnoff import ForceField"
   ]
  },
  {
   "cell_type": "code",
   "execution_count": 2,
   "id": "32e22827",
   "metadata": {},
   "outputs": [],
   "source": [
    "ff = ForceField(\"openff-2.1.0.offxml\")"
   ]
  },
  {
   "cell_type": "code",
   "execution_count": 3,
   "id": "5e2f69e4",
   "metadata": {},
   "outputs": [
    {
     "data": {
      "text/plain": [
       "odict_keys(['Constraints', 'Bonds', 'Angles', 'ProperTorsions', 'ImproperTorsions', 'vdW', 'Electrostatics', 'LibraryCharges', 'ToolkitAM1BCC'])"
      ]
     },
     "execution_count": 3,
     "metadata": {},
     "output_type": "execute_result"
    }
   ],
   "source": [
    "ff._parameter_handlers.keys()"
   ]
  },
  {
   "cell_type": "code",
   "execution_count": null,
   "id": "427d2d49",
   "metadata": {},
   "outputs": [],
   "source": []
  }
 ],
 "metadata": {
  "kernelspec": {
   "display_name": "Python (fb-193-tk-010-oe-2022)",
   "language": "python",
   "name": "fb-193-tk-010-oe-2022"
  },
  "language_info": {
   "codemirror_mode": {
    "name": "ipython",
    "version": 3
   },
   "file_extension": ".py",
   "mimetype": "text/x-python",
   "name": "python",
   "nbconvert_exporter": "python",
   "pygments_lexer": "ipython3",
   "version": "3.10.13"
  }
 },
 "nbformat": 4,
 "nbformat_minor": 5
}
