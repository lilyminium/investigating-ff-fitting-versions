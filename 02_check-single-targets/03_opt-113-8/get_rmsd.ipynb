{
 "cells": [
  {
   "cell_type": "code",
   "execution_count": 13,
   "id": "cc535228",
   "metadata": {},
   "outputs": [],
   "source": [
    "import copy"
   ]
  },
  {
   "cell_type": "code",
   "execution_count": 15,
   "id": "df7d7f92",
   "metadata": {},
   "outputs": [],
   "source": [
    "import MDAnalysis as mda\n",
    "import nglview as nv\n",
    "import pathlib\n",
    "\n",
    "from MDAnalysis.analysis.rms import rmsd\n",
    "from rdkit import Chem\n",
    "from rdkit.Chem import AllChem\n",
    "\n",
    "from openff.toolkit.topology.molecule import Molecule, unit"
   ]
  },
  {
   "cell_type": "code",
   "execution_count": 2,
   "id": "0cecd183",
   "metadata": {},
   "outputs": [],
   "source": [
    "env_193 = \"fb-193-tk-010-oe-2022\"\n",
    "env_195 = \"fb-195-tk-013-oe-2022-interchange-replace-cache-switching\""
   ]
  },
  {
   "cell_type": "code",
   "execution_count": 3,
   "id": "1ef2657c",
   "metadata": {},
   "outputs": [],
   "source": [
    "here = pathlib.Path(\".\")\n",
    "sdf = list(here.glob(\"targets/*/*.sdf\"))[0]\n",
    "system = sdf.stem\n",
    "batch = sdf.parent.stem"
   ]
  },
  {
   "cell_type": "code",
   "execution_count": 4,
   "id": "56235982",
   "metadata": {},
   "outputs": [
    {
     "data": {
      "text/plain": [
       "'opt-geo-batch-113'"
      ]
     },
     "execution_count": 4,
     "metadata": {},
     "output_type": "execute_result"
    }
   ],
   "source": [
    "batch"
   ]
  },
  {
   "cell_type": "code",
   "execution_count": 5,
   "id": "72def9da",
   "metadata": {},
   "outputs": [
    {
     "data": {
      "text/plain": [
       "'19095588-8'"
      ]
     },
     "execution_count": 5,
     "metadata": {},
     "output_type": "execute_result"
    }
   ],
   "source": [
    "system"
   ]
  },
  {
   "cell_type": "code",
   "execution_count": 6,
   "id": "58f2d0ca",
   "metadata": {},
   "outputs": [
    {
     "name": "stderr",
     "output_type": "stream",
     "text": [
      "Warning: importing 'simtk.openmm' is deprecated.  Import 'openmm' instead.\n"
     ]
    },
    {
     "data": {
      "application/vnd.jupyter.widget-view+json": {
       "model_id": "c5f987b48f0946638b4dc5c58a20683c",
       "version_major": 2,
       "version_minor": 0
      },
      "text/plain": [
       "NGLWidget()"
      ]
     },
     "metadata": {},
     "output_type": "display_data"
    }
   ],
   "source": [
    "u1 = mda.Universe(\n",
    "    (\n",
    "        f\"{env_193}/\"\n",
    "        \"rep1/optimize.tmp/\"\n",
    "        f\"{batch}/iter_0000/\"\n",
    "        f\"{system}_mmopt.xyz\"\n",
    "    )\n",
    ")\n",
    "nv.show_mdanalysis(u1)"
   ]
  },
  {
   "cell_type": "code",
   "execution_count": 7,
   "id": "ef340028",
   "metadata": {},
   "outputs": [
    {
     "data": {
      "application/vnd.jupyter.widget-view+json": {
       "model_id": "45a6d78f363742f0ac16115be75fddda",
       "version_major": 2,
       "version_minor": 0
      },
      "text/plain": [
       "NGLWidget()"
      ]
     },
     "metadata": {},
     "output_type": "display_data"
    }
   ],
   "source": [
    "u2 = mda.Universe(\n",
    "    (\n",
    "        f\"{env_195}/\"\n",
    "        \"rep1/optimize.tmp/\"\n",
    "        f\"{batch}/iter_0000/\"\n",
    "        f\"{system}_mmopt.xyz\"\n",
    "    )\n",
    ")\n",
    "nv.show_mdanalysis(u2)"
   ]
  },
  {
   "cell_type": "code",
   "execution_count": 9,
   "id": "22674ee6",
   "metadata": {},
   "outputs": [
    {
     "data": {
      "application/vnd.jupyter.widget-view+json": {
       "model_id": "098620e09585432c918705fed9240733",
       "version_major": 2,
       "version_minor": 0
      },
      "text/plain": [
       "NGLWidget()"
      ]
     },
     "metadata": {},
     "output_type": "display_data"
    }
   ],
   "source": [
    "mol_qm = Molecule.from_file(\n",
    "    f\"targets/{batch}/{system}.sdf\", \"SDF\",\n",
    "    allow_undefined_stereo=True\n",
    ")\n",
    "rdmol_qm = mol_qm.to_rdkit()\n",
    "u_qm = mda.Universe(rdmol_qm)\n",
    "nv.show_mdanalysis(u_qm)"
   ]
  },
  {
   "cell_type": "code",
   "execution_count": 10,
   "id": "2b0e2762",
   "metadata": {},
   "outputs": [
    {
     "name": "stdout",
     "output_type": "stream",
     "text": [
      "   1.9.3 to QM: 3.02\n",
      "   1.9.5 to QM: 1.85\n",
      "1.9.3 to 1.9.5: 2.25\n"
     ]
    }
   ],
   "source": [
    "u1_to_u2 = rmsd(u1.atoms.positions, u2.atoms.positions)\n",
    "u1_to_qm = rmsd(u1.atoms.positions, u_qm.atoms.positions)\n",
    "u2_to_qm = rmsd(u2.atoms.positions, u_qm.atoms.positions)\n",
    "\n",
    "print(f\"   1.9.3 to QM: {u1_to_qm:.2f}\")\n",
    "print(f\"   1.9.5 to QM: {u2_to_qm:.2f}\")\n",
    "print(f\"1.9.3 to 1.9.5: {u1_to_u2:.2f}\")"
   ]
  },
  {
   "cell_type": "code",
   "execution_count": 16,
   "id": "64ab7f84",
   "metadata": {},
   "outputs": [
    {
     "name": "stdout",
     "output_type": "stream",
     "text": [
      "   1.9.3 to QM: 2.98\n",
      "   1.9.5 to QM: 1.83\n",
      "1.9.3 to 1.9.5: 2.18\n"
     ]
    }
   ],
   "source": [
    "mol1 = copy.deepcopy(mol_qm)\n",
    "mol1._conformers = [u1.atoms.positions.astype(float) * unit.angstrom]\n",
    "rdmol1 = mol1.to_rdkit()\n",
    "\n",
    "mol2 = copy.deepcopy(mol_qm)\n",
    "mol2._conformers = [u2.atoms.positions.astype(float) * unit.angstrom]\n",
    "rdmol2 = mol2.to_rdkit()\n",
    "\n",
    "r1_to_r2 = AllChem.GetBestRMS(rdmol1, rdmol2)\n",
    "r1_to_qm = AllChem.GetBestRMS(rdmol1, rdmol_qm)\n",
    "r2_to_qm = AllChem.GetBestRMS(rdmol2, rdmol_qm)\n",
    "\n",
    "print(f\"   1.9.3 to QM: {r1_to_qm:.2f}\")\n",
    "print(f\"   1.9.5 to QM: {r2_to_qm:.2f}\")\n",
    "print(f\"1.9.3 to 1.9.5: {r1_to_r2:.2f}\")"
   ]
  },
  {
   "cell_type": "code",
   "execution_count": 15,
   "id": "d8f9a7ed",
   "metadata": {},
   "outputs": [],
   "source": [
    "mol1 = Molecule.from_rdkit(rdmol1, allow_undefined_stereo=True)\n",
    "mol2 = Molecule.from_rdkit(rdmol2, allow_undefined_stereo=True)"
   ]
  },
  {
   "cell_type": "code",
   "execution_count": 16,
   "id": "541bcacd",
   "metadata": {},
   "outputs": [
    {
     "data": {
      "text/plain": [
       "'[H:20][c:2]1[c:4]([c:8]([c:5]([c:3]([c:7]1[C:1]#[N:15])[H:21])[H:23])/[C:12](=[N:18]/[N:19]([H:32])[c:11]2[n:16][c:9]([c:6]([c:10]([n:17]2)[C:14]([H:29])([H:30])[H:31])[H:24])[C:13]([H:26])([H:27])[H:28])/[H:25])[H:22]'"
      ]
     },
     "execution_count": 16,
     "metadata": {},
     "output_type": "execute_result"
    }
   ],
   "source": [
    "mol1.to_smiles(mapped=True)"
   ]
  },
  {
   "cell_type": "code",
   "execution_count": 17,
   "id": "7055ccfb",
   "metadata": {},
   "outputs": [
    {
     "data": {
      "text/plain": [
       "'[H:20][c:2]1[c:4]([c:8]([c:5]([c:3]([c:7]1[C:1]#[N:15])[H:21])[H:23])/[C:12](=[N:18]/[N:19]([H:32])[c:11]2[n:16][c:9]([c:6]([c:10]([n:17]2)[C:14]([H:29])([H:30])[H:31])[H:24])[C:13]([H:26])([H:27])[H:28])/[H:25])[H:22]'"
      ]
     },
     "execution_count": 17,
     "metadata": {},
     "output_type": "execute_result"
    }
   ],
   "source": [
    "mol2.to_smiles(mapped=True)"
   ]
  },
  {
   "cell_type": "code",
   "execution_count": 18,
   "id": "392777b7",
   "metadata": {},
   "outputs": [
    {
     "data": {
      "text/plain": [
       "True"
      ]
     },
     "execution_count": 18,
     "metadata": {},
     "output_type": "execute_result"
    }
   ],
   "source": [
    "mol1.to_smiles(mapped=True) == mol2.to_smiles(mapped=True)"
   ]
  },
  {
   "cell_type": "code",
   "execution_count": null,
   "id": "73f3a07b",
   "metadata": {},
   "outputs": [],
   "source": []
  }
 ],
 "metadata": {
  "kernelspec": {
   "display_name": "Python (fit-virtual-sites-tk010-py39)",
   "language": "python",
   "name": "fit-virtual-sites-tk010-py39"
  },
  "language_info": {
   "codemirror_mode": {
    "name": "ipython",
    "version": 3
   },
   "file_extension": ".py",
   "mimetype": "text/x-python",
   "name": "python",
   "nbconvert_exporter": "python",
   "pygments_lexer": "ipython3",
   "version": "3.9.15"
  }
 },
 "nbformat": 4,
 "nbformat_minor": 5
}
