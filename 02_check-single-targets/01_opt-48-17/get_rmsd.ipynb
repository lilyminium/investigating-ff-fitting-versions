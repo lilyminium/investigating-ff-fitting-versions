{
 "cells": [
  {
   "cell_type": "code",
   "execution_count": 1,
   "id": "df7d7f92",
   "metadata": {},
   "outputs": [
    {
     "data": {
      "application/vnd.jupyter.widget-view+json": {
       "model_id": "b7fb7fda9d364680b41d2aaff0e2c144",
       "version_major": 2,
       "version_minor": 0
      },
      "text/plain": []
     },
     "metadata": {},
     "output_type": "display_data"
    }
   ],
   "source": [
    "import MDAnalysis as mda\n",
    "import nglview as nv\n",
    "import pathlib\n",
    "\n",
    "from MDAnalysis.analysis.rms import rmsd\n",
    "from rdkit import Chem\n",
    "from rdkit.Chem import AllChem\n",
    "\n",
    "from openff.toolkit.topology import Molecule"
   ]
  },
  {
   "cell_type": "code",
   "execution_count": 2,
   "id": "0cecd183",
   "metadata": {},
   "outputs": [],
   "source": [
    "env_193 = \"fb-193-tk-010-oe-2022\"\n",
    "env_195 = \"fb-195-tk-013-oe-2022-interchange-replace-cache\""
   ]
  },
  {
   "cell_type": "code",
   "execution_count": 4,
   "id": "1ef2657c",
   "metadata": {},
   "outputs": [],
   "source": [
    "here = pathlib.Path(\".\")\n",
    "sdf = list(here.glob(\"targets/*/*.sdf\"))[0]\n",
    "system = sdf.stem\n",
    "batch = sdf.parent.stem"
   ]
  },
  {
   "cell_type": "code",
   "execution_count": 5,
   "id": "56235982",
   "metadata": {},
   "outputs": [
    {
     "data": {
      "text/plain": [
       "'opt-geo-batch-48'"
      ]
     },
     "execution_count": 5,
     "metadata": {},
     "output_type": "execute_result"
    }
   ],
   "source": [
    "batch"
   ]
  },
  {
   "cell_type": "code",
   "execution_count": 6,
   "id": "72def9da",
   "metadata": {},
   "outputs": [
    {
     "data": {
      "text/plain": [
       "'18437974-17'"
      ]
     },
     "execution_count": 6,
     "metadata": {},
     "output_type": "execute_result"
    }
   ],
   "source": [
    "system"
   ]
  },
  {
   "cell_type": "code",
   "execution_count": 8,
   "id": "58f2d0ca",
   "metadata": {},
   "outputs": [
    {
     "data": {
      "application/vnd.jupyter.widget-view+json": {
       "model_id": "0ea3da4a790140918a3050d9c84c9545",
       "version_major": 2,
       "version_minor": 0
      },
      "text/plain": [
       "NGLWidget()"
      ]
     },
     "metadata": {},
     "output_type": "display_data"
    }
   ],
   "source": [
    "u1 = mda.Universe(\n",
    "    (\n",
    "        f\"{env_193}/\"\n",
    "        \"rep1/optimize.tmp/\"\n",
    "        f\"{batch}/iter_0000/\"\n",
    "        f\"{system}_mmopt.xyz\"\n",
    "    )\n",
    ")\n",
    "nv.show_mdanalysis(u1)"
   ]
  },
  {
   "cell_type": "code",
   "execution_count": 9,
   "id": "ef340028",
   "metadata": {},
   "outputs": [
    {
     "data": {
      "application/vnd.jupyter.widget-view+json": {
       "model_id": "f1fa4f71f0a748e28b711d39b73b0e96",
       "version_major": 2,
       "version_minor": 0
      },
      "text/plain": [
       "NGLWidget()"
      ]
     },
     "metadata": {},
     "output_type": "display_data"
    }
   ],
   "source": [
    "u2 = mda.Universe(\n",
    "    (\n",
    "        f\"{env_195}/\"\n",
    "        \"rep1/optimize.tmp/\"\n",
    "        f\"{batch}/iter_0000/\"\n",
    "        f\"{system}_mmopt.xyz\"\n",
    "    )\n",
    ")\n",
    "nv.show_mdanalysis(u2)"
   ]
  },
  {
   "cell_type": "code",
   "execution_count": 10,
   "id": "22674ee6",
   "metadata": {},
   "outputs": [
    {
     "data": {
      "application/vnd.jupyter.widget-view+json": {
       "model_id": "1a32e126878e488c8097d2792acbf6fc",
       "version_major": 2,
       "version_minor": 0
      },
      "text/plain": [
       "NGLWidget()"
      ]
     },
     "metadata": {},
     "output_type": "display_data"
    }
   ],
   "source": [
    "mol_qm = Molecule.from_file(\n",
    "    f\"targets/{batch}/{system}.sdf\", \"SDF\",\n",
    "    allow_undefined_stereo=True\n",
    ")\n",
    "rdmol_qm = mol_qm.to_rdkit()\n",
    "u_qm = mda.Universe(rdmol_qm)\n",
    "nv.show_mdanalysis(u_qm)"
   ]
  },
  {
   "cell_type": "code",
   "execution_count": 17,
   "id": "2b0e2762",
   "metadata": {},
   "outputs": [
    {
     "name": "stdout",
     "output_type": "stream",
     "text": [
      "   1.9.3 to QM: 0.90\n",
      "   1.9.5 to QM: 0.75\n",
      "1.9.3 to 1.9.5: 0.55\n"
     ]
    }
   ],
   "source": [
    "u1_to_u2 = rmsd(u1.atoms.positions, u2.atoms.positions)\n",
    "u1_to_qm = rmsd(u1.atoms.positions, u_qm.atoms.positions)\n",
    "u2_to_qm = rmsd(u2.atoms.positions, u_qm.atoms.positions)\n",
    "\n",
    "print(f\"   1.9.3 to QM: {u1_to_qm:.2f}\")\n",
    "print(f\"   1.9.5 to QM: {u2_to_qm:.2f}\")\n",
    "print(f\"1.9.3 to 1.9.5: {u1_to_u2:.2f}\")"
   ]
  },
  {
   "cell_type": "code",
   "execution_count": 18,
   "id": "64ab7f84",
   "metadata": {},
   "outputs": [
    {
     "name": "stdout",
     "output_type": "stream",
     "text": [
      "   1.9.3 to QM: 0.69\n",
      "   1.9.5 to QM: 0.69\n",
      "1.9.3 to 1.9.5: 0.00\n"
     ]
    },
    {
     "name": "stderr",
     "output_type": "stream",
     "text": [
      "/lila/home/lilywang/micromamba/envs/fit-virtual-sites-tk010-py39/lib/python3.9/site-packages/MDAnalysis/converters/RDKit.py:472: UserWarning: No `bonds` attribute in this AtomGroup. Guessing bonds based on atoms coordinates\n",
      "  warnings.warn(\n"
     ]
    }
   ],
   "source": [
    "rdmol1 = u1.atoms.convert_to(\"RDKIT\")\n",
    "rdmol2 = u2.atoms.convert_to(\"RDKIT\")\n",
    "\n",
    "r1_to_r2 = AllChem.GetBestRMS(rdmol1, rdmol2)\n",
    "r1_to_qm = AllChem.GetBestRMS(rdmol1, rdmol_qm)\n",
    "r2_to_qm = AllChem.GetBestRMS(rdmol2, rdmol_qm)\n",
    "\n",
    "print(f\"   1.9.3 to QM: {r1_to_qm:.2f}\")\n",
    "print(f\"   1.9.5 to QM: {r2_to_qm:.2f}\")\n",
    "print(f\"1.9.3 to 1.9.5: {r1_to_r2:.2f}\")"
   ]
  },
  {
   "cell_type": "code",
   "execution_count": 15,
   "id": "d8f9a7ed",
   "metadata": {},
   "outputs": [],
   "source": [
    "mol1 = Molecule.from_rdkit(rdmol1, allow_undefined_stereo=True)\n",
    "mol2 = Molecule.from_rdkit(rdmol2, allow_undefined_stereo=True)"
   ]
  },
  {
   "cell_type": "code",
   "execution_count": 16,
   "id": "541bcacd",
   "metadata": {},
   "outputs": [
    {
     "data": {
      "text/plain": [
       "'[H:20][c:2]1[c:4]([c:8]([c:5]([c:3]([c:7]1[C:1]#[N:15])[H:21])[H:23])/[C:12](=[N:18]/[N:19]([H:32])[c:11]2[n:16][c:9]([c:6]([c:10]([n:17]2)[C:14]([H:29])([H:30])[H:31])[H:24])[C:13]([H:26])([H:27])[H:28])/[H:25])[H:22]'"
      ]
     },
     "execution_count": 16,
     "metadata": {},
     "output_type": "execute_result"
    }
   ],
   "source": [
    "mol1.to_smiles(mapped=True)"
   ]
  },
  {
   "cell_type": "code",
   "execution_count": 17,
   "id": "7055ccfb",
   "metadata": {},
   "outputs": [
    {
     "data": {
      "text/plain": [
       "'[H:20][c:2]1[c:4]([c:8]([c:5]([c:3]([c:7]1[C:1]#[N:15])[H:21])[H:23])/[C:12](=[N:18]/[N:19]([H:32])[c:11]2[n:16][c:9]([c:6]([c:10]([n:17]2)[C:14]([H:29])([H:30])[H:31])[H:24])[C:13]([H:26])([H:27])[H:28])/[H:25])[H:22]'"
      ]
     },
     "execution_count": 17,
     "metadata": {},
     "output_type": "execute_result"
    }
   ],
   "source": [
    "mol2.to_smiles(mapped=True)"
   ]
  },
  {
   "cell_type": "code",
   "execution_count": 18,
   "id": "392777b7",
   "metadata": {},
   "outputs": [
    {
     "data": {
      "text/plain": [
       "True"
      ]
     },
     "execution_count": 18,
     "metadata": {},
     "output_type": "execute_result"
    }
   ],
   "source": [
    "mol1.to_smiles(mapped=True) == mol2.to_smiles(mapped=True)"
   ]
  },
  {
   "cell_type": "code",
   "execution_count": null,
   "id": "73f3a07b",
   "metadata": {},
   "outputs": [],
   "source": []
  }
 ],
 "metadata": {
  "kernelspec": {
   "display_name": "Python (fit-virtual-sites-tk010-py39)",
   "language": "python",
   "name": "fit-virtual-sites-tk010-py39"
  },
  "language_info": {
   "codemirror_mode": {
    "name": "ipython",
    "version": 3
   },
   "file_extension": ".py",
   "mimetype": "text/x-python",
   "name": "python",
   "nbconvert_exporter": "python",
   "pygments_lexer": "ipython3",
   "version": "3.9.15"
  }
 },
 "nbformat": 4,
 "nbformat_minor": 5
}
